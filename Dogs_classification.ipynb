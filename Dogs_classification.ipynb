{
 "cells": [
  {
   "cell_type": "code",
   "execution_count": 3,
   "id": "3339b1d5",
   "metadata": {},
   "outputs": [
    {
     "name": "stdout",
     "output_type": "stream",
     "text": [
      "Requirement already satisfied: opencv-python in c:\\users\\deepa\\anaconda3\\lib\\site-packages (4.6.0.66)\n",
      "Requirement already satisfied: scikit-learn in c:\\users\\deepa\\anaconda3\\lib\\site-packages (1.0.2)\n",
      "Collecting tensorflow\n",
      "  Using cached tensorflow-2.11.0-cp39-cp39-win_amd64.whl (1.9 kB)\n",
      "Requirement already satisfied: numpy>=1.17.3 in c:\\users\\deepa\\anaconda3\\lib\\site-packages (from opencv-python) (1.21.5)\n",
      "Requirement already satisfied: joblib>=0.11 in c:\\users\\deepa\\anaconda3\\lib\\site-packages (from scikit-learn) (1.1.0)\n",
      "Requirement already satisfied: scipy>=1.1.0 in c:\\users\\deepa\\anaconda3\\lib\\site-packages (from scikit-learn) (1.9.1)\n",
      "Requirement already satisfied: threadpoolctl>=2.0.0 in c:\\users\\deepa\\anaconda3\\lib\\site-packages (from scikit-learn) (2.2.0)\n",
      "Requirement already satisfied: tensorflow-intel==2.11.0 in c:\\users\\deepa\\anaconda3\\lib\\site-packages (from tensorflow) (2.11.0)\n",
      "Requirement already satisfied: google-pasta>=0.1.1 in c:\\users\\deepa\\anaconda3\\lib\\site-packages (from tensorflow-intel==2.11.0->tensorflow) (0.2.0)\n",
      "Requirement already satisfied: h5py>=2.9.0 in c:\\users\\deepa\\anaconda3\\lib\\site-packages (from tensorflow-intel==2.11.0->tensorflow) (3.7.0)\n",
      "Requirement already satisfied: wrapt>=1.11.0 in c:\\users\\deepa\\anaconda3\\lib\\site-packages (from tensorflow-intel==2.11.0->tensorflow) (1.14.1)\n",
      "Requirement already satisfied: grpcio<2.0,>=1.24.3 in c:\\users\\deepa\\anaconda3\\lib\\site-packages (from tensorflow-intel==2.11.0->tensorflow) (1.50.0)\n",
      "Requirement already satisfied: termcolor>=1.1.0 in c:\\users\\deepa\\anaconda3\\lib\\site-packages (from tensorflow-intel==2.11.0->tensorflow) (2.1.1)\n",
      "Requirement already satisfied: astunparse>=1.6.0 in c:\\users\\deepa\\anaconda3\\lib\\site-packages (from tensorflow-intel==2.11.0->tensorflow) (1.6.3)\n",
      "Requirement already satisfied: tensorflow-estimator<2.12,>=2.11.0 in c:\\users\\deepa\\anaconda3\\lib\\site-packages (from tensorflow-intel==2.11.0->tensorflow) (2.11.0)\n",
      "Requirement already satisfied: setuptools in c:\\users\\deepa\\anaconda3\\lib\\site-packages (from tensorflow-intel==2.11.0->tensorflow) (63.4.1)\n",
      "Requirement already satisfied: typing-extensions>=3.6.6 in c:\\users\\deepa\\anaconda3\\lib\\site-packages (from tensorflow-intel==2.11.0->tensorflow) (4.3.0)\n",
      "Requirement already satisfied: tensorflow-io-gcs-filesystem>=0.23.1 in c:\\users\\deepa\\anaconda3\\lib\\site-packages (from tensorflow-intel==2.11.0->tensorflow) (0.28.0)\n",
      "Requirement already satisfied: gast<=0.4.0,>=0.2.1 in c:\\users\\deepa\\anaconda3\\lib\\site-packages (from tensorflow-intel==2.11.0->tensorflow) (0.4.0)\n",
      "Requirement already satisfied: libclang>=13.0.0 in c:\\users\\deepa\\anaconda3\\lib\\site-packages (from tensorflow-intel==2.11.0->tensorflow) (14.0.6)\n",
      "Requirement already satisfied: absl-py>=1.0.0 in c:\\users\\deepa\\anaconda3\\lib\\site-packages (from tensorflow-intel==2.11.0->tensorflow) (1.3.0)\n",
      "Requirement already satisfied: opt-einsum>=2.3.2 in c:\\users\\deepa\\anaconda3\\lib\\site-packages (from tensorflow-intel==2.11.0->tensorflow) (3.3.0)\n",
      "Requirement already satisfied: flatbuffers>=2.0 in c:\\users\\deepa\\anaconda3\\lib\\site-packages (from tensorflow-intel==2.11.0->tensorflow) (22.11.23)\n",
      "Requirement already satisfied: tensorboard<2.12,>=2.11 in c:\\users\\deepa\\anaconda3\\lib\\site-packages (from tensorflow-intel==2.11.0->tensorflow) (2.11.0)\n",
      "Requirement already satisfied: packaging in c:\\users\\deepa\\anaconda3\\lib\\site-packages (from tensorflow-intel==2.11.0->tensorflow) (21.3)\n",
      "Requirement already satisfied: protobuf<3.20,>=3.9.2 in c:\\users\\deepa\\anaconda3\\lib\\site-packages (from tensorflow-intel==2.11.0->tensorflow) (3.19.6)\n",
      "Requirement already satisfied: keras<2.12,>=2.11.0 in c:\\users\\deepa\\anaconda3\\lib\\site-packages (from tensorflow-intel==2.11.0->tensorflow) (2.11.0)\n",
      "Requirement already satisfied: six>=1.12.0 in c:\\users\\deepa\\anaconda3\\lib\\site-packages (from tensorflow-intel==2.11.0->tensorflow) (1.16.0)\n",
      "Requirement already satisfied: wheel<1.0,>=0.23.0 in c:\\users\\deepa\\anaconda3\\lib\\site-packages (from astunparse>=1.6.0->tensorflow-intel==2.11.0->tensorflow) (0.37.1)\n",
      "Requirement already satisfied: markdown>=2.6.8 in c:\\users\\deepa\\anaconda3\\lib\\site-packages (from tensorboard<2.12,>=2.11->tensorflow-intel==2.11.0->tensorflow) (3.3.4)\n",
      "Requirement already satisfied: requests<3,>=2.21.0 in c:\\users\\deepa\\anaconda3\\lib\\site-packages (from tensorboard<2.12,>=2.11->tensorflow-intel==2.11.0->tensorflow) (2.28.1)\n",
      "Requirement already satisfied: werkzeug>=1.0.1 in c:\\users\\deepa\\anaconda3\\lib\\site-packages (from tensorboard<2.12,>=2.11->tensorflow-intel==2.11.0->tensorflow) (2.0.3)\n",
      "Requirement already satisfied: google-auth-oauthlib<0.5,>=0.4.1 in c:\\users\\deepa\\anaconda3\\lib\\site-packages (from tensorboard<2.12,>=2.11->tensorflow-intel==2.11.0->tensorflow) (0.4.6)\n",
      "Requirement already satisfied: tensorboard-data-server<0.7.0,>=0.6.0 in c:\\users\\deepa\\anaconda3\\lib\\site-packages (from tensorboard<2.12,>=2.11->tensorflow-intel==2.11.0->tensorflow) (0.6.1)\n",
      "Requirement already satisfied: google-auth<3,>=1.6.3 in c:\\users\\deepa\\anaconda3\\lib\\site-packages (from tensorboard<2.12,>=2.11->tensorflow-intel==2.11.0->tensorflow) (2.14.1)\n",
      "Requirement already satisfied: tensorboard-plugin-wit>=1.6.0 in c:\\users\\deepa\\anaconda3\\lib\\site-packages (from tensorboard<2.12,>=2.11->tensorflow-intel==2.11.0->tensorflow) (1.8.1)\n",
      "Requirement already satisfied: pyparsing!=3.0.5,>=2.0.2 in c:\\users\\deepa\\anaconda3\\lib\\site-packages (from packaging->tensorflow-intel==2.11.0->tensorflow) (3.0.9)\n",
      "Requirement already satisfied: rsa<5,>=3.1.4 in c:\\users\\deepa\\anaconda3\\lib\\site-packages (from google-auth<3,>=1.6.3->tensorboard<2.12,>=2.11->tensorflow-intel==2.11.0->tensorflow) (4.9)\n",
      "Requirement already satisfied: cachetools<6.0,>=2.0.0 in c:\\users\\deepa\\anaconda3\\lib\\site-packages (from google-auth<3,>=1.6.3->tensorboard<2.12,>=2.11->tensorflow-intel==2.11.0->tensorflow) (5.2.0)\n",
      "Requirement already satisfied: pyasn1-modules>=0.2.1 in c:\\users\\deepa\\anaconda3\\lib\\site-packages (from google-auth<3,>=1.6.3->tensorboard<2.12,>=2.11->tensorflow-intel==2.11.0->tensorflow) (0.2.8)\n",
      "Requirement already satisfied: requests-oauthlib>=0.7.0 in c:\\users\\deepa\\anaconda3\\lib\\site-packages (from google-auth-oauthlib<0.5,>=0.4.1->tensorboard<2.12,>=2.11->tensorflow-intel==2.11.0->tensorflow) (1.3.1)\n",
      "Requirement already satisfied: charset-normalizer<3,>=2 in c:\\users\\deepa\\anaconda3\\lib\\site-packages (from requests<3,>=2.21.0->tensorboard<2.12,>=2.11->tensorflow-intel==2.11.0->tensorflow) (2.0.4)\n",
      "Requirement already satisfied: urllib3<1.27,>=1.21.1 in c:\\users\\deepa\\anaconda3\\lib\\site-packages (from requests<3,>=2.21.0->tensorboard<2.12,>=2.11->tensorflow-intel==2.11.0->tensorflow) (1.26.11)\n",
      "Requirement already satisfied: idna<4,>=2.5 in c:\\users\\deepa\\anaconda3\\lib\\site-packages (from requests<3,>=2.21.0->tensorboard<2.12,>=2.11->tensorflow-intel==2.11.0->tensorflow) (3.3)\n",
      "Requirement already satisfied: certifi>=2017.4.17 in c:\\users\\deepa\\anaconda3\\lib\\site-packages (from requests<3,>=2.21.0->tensorboard<2.12,>=2.11->tensorflow-intel==2.11.0->tensorflow) (2022.9.14)\n",
      "Requirement already satisfied: pyasn1<0.5.0,>=0.4.6 in c:\\users\\deepa\\anaconda3\\lib\\site-packages (from pyasn1-modules>=0.2.1->google-auth<3,>=1.6.3->tensorboard<2.12,>=2.11->tensorflow-intel==2.11.0->tensorflow) (0.4.8)\n",
      "Requirement already satisfied: oauthlib>=3.0.0 in c:\\users\\deepa\\anaconda3\\lib\\site-packages (from requests-oauthlib>=0.7.0->google-auth-oauthlib<0.5,>=0.4.1->tensorboard<2.12,>=2.11->tensorflow-intel==2.11.0->tensorflow) (3.2.2)\n",
      "Installing collected packages: tensorflow\n",
      "Successfully installed tensorflow-2.11.0\n",
      "Note: you may need to restart the kernel to use updated packages.\n"
     ]
    }
   ],
   "source": [
    "pip install opencv-python scikit-learn tensorflow"
   ]
  },
  {
   "cell_type": "code",
   "execution_count": 1,
   "id": "f439f254",
   "metadata": {},
   "outputs": [],
   "source": [
    "import random\n",
    "import pickle\n",
    "import numpy as np \n",
    "import pandas as pd\n",
    "import matplotlib.pyplot as plt\n",
    "import cv2\n",
    "import sklearn\n",
    "import tensorflow as tf\n",
    "from sklearn.model_selection import train_test_split\n",
    "from sklearn.preprocessing import LabelEncoder\n",
    "from tensorflow.keras.preprocessing.image import ImageDataGenerator\n",
    "from tensorflow.keras.models import load_model, Model\n",
    "from tensorflow.keras.optimizers import RMSprop\n",
    "from tensorflow.keras.layers import Dense, GlobalAveragePooling2D, Dropout, BatchNormalization\n",
    "from tensorflow.keras.applications.resnet_v2 import ResNet50V2, preprocess_input"
   ]
  },
  {
   "cell_type": "code",
   "execution_count": 2,
   "id": "45136124",
   "metadata": {},
   "outputs": [],
   "source": [
    "df = pd.read_csv(\"/breeds_classification/dog-breed-identification/labels.csv\")"
   ]
  },
  {
   "cell_type": "code",
   "execution_count": 3,
   "id": "381e3dde",
   "metadata": {},
   "outputs": [],
   "source": [
    "train_file = '/breeds_classification/dog-breed-identification/train/'\n",
    "test_file = '/breeds_classification/dog-breed-identification/test/'"
   ]
  },
  {
   "cell_type": "code",
   "execution_count": 4,
   "id": "ae86667f",
   "metadata": {},
   "outputs": [
    {
     "data": {
      "text/html": [
       "<div>\n",
       "<style scoped>\n",
       "    .dataframe tbody tr th:only-of-type {\n",
       "        vertical-align: middle;\n",
       "    }\n",
       "\n",
       "    .dataframe tbody tr th {\n",
       "        vertical-align: top;\n",
       "    }\n",
       "\n",
       "    .dataframe thead th {\n",
       "        text-align: right;\n",
       "    }\n",
       "</style>\n",
       "<table border=\"1\" class=\"dataframe\">\n",
       "  <thead>\n",
       "    <tr style=\"text-align: right;\">\n",
       "      <th></th>\n",
       "      <th>id</th>\n",
       "      <th>breed</th>\n",
       "    </tr>\n",
       "  </thead>\n",
       "  <tbody>\n",
       "    <tr>\n",
       "      <th>0</th>\n",
       "      <td>000bec180eb18c7604dcecc8fe0dba07</td>\n",
       "      <td>boston_bull</td>\n",
       "    </tr>\n",
       "    <tr>\n",
       "      <th>1</th>\n",
       "      <td>001513dfcb2ffafc82cccf4d8bbaba97</td>\n",
       "      <td>dingo</td>\n",
       "    </tr>\n",
       "    <tr>\n",
       "      <th>2</th>\n",
       "      <td>001cdf01b096e06d78e9e5112d419397</td>\n",
       "      <td>pekinese</td>\n",
       "    </tr>\n",
       "    <tr>\n",
       "      <th>3</th>\n",
       "      <td>00214f311d5d2247d5dfe4fe24b2303d</td>\n",
       "      <td>bluetick</td>\n",
       "    </tr>\n",
       "    <tr>\n",
       "      <th>4</th>\n",
       "      <td>0021f9ceb3235effd7fcde7f7538ed62</td>\n",
       "      <td>golden_retriever</td>\n",
       "    </tr>\n",
       "    <tr>\n",
       "      <th>...</th>\n",
       "      <td>...</td>\n",
       "      <td>...</td>\n",
       "    </tr>\n",
       "    <tr>\n",
       "      <th>10217</th>\n",
       "      <td>ffd25009d635cfd16e793503ac5edef0</td>\n",
       "      <td>borzoi</td>\n",
       "    </tr>\n",
       "    <tr>\n",
       "      <th>10218</th>\n",
       "      <td>ffd3f636f7f379c51ba3648a9ff8254f</td>\n",
       "      <td>dandie_dinmont</td>\n",
       "    </tr>\n",
       "    <tr>\n",
       "      <th>10219</th>\n",
       "      <td>ffe2ca6c940cddfee68fa3cc6c63213f</td>\n",
       "      <td>airedale</td>\n",
       "    </tr>\n",
       "    <tr>\n",
       "      <th>10220</th>\n",
       "      <td>ffe5f6d8e2bff356e9482a80a6e29aac</td>\n",
       "      <td>miniature_pinscher</td>\n",
       "    </tr>\n",
       "    <tr>\n",
       "      <th>10221</th>\n",
       "      <td>fff43b07992508bc822f33d8ffd902ae</td>\n",
       "      <td>chesapeake_bay_retriever</td>\n",
       "    </tr>\n",
       "  </tbody>\n",
       "</table>\n",
       "<p>10222 rows × 2 columns</p>\n",
       "</div>"
      ],
      "text/plain": [
       "                                     id                     breed\n",
       "0      000bec180eb18c7604dcecc8fe0dba07               boston_bull\n",
       "1      001513dfcb2ffafc82cccf4d8bbaba97                     dingo\n",
       "2      001cdf01b096e06d78e9e5112d419397                  pekinese\n",
       "3      00214f311d5d2247d5dfe4fe24b2303d                  bluetick\n",
       "4      0021f9ceb3235effd7fcde7f7538ed62          golden_retriever\n",
       "...                                 ...                       ...\n",
       "10217  ffd25009d635cfd16e793503ac5edef0                    borzoi\n",
       "10218  ffd3f636f7f379c51ba3648a9ff8254f            dandie_dinmont\n",
       "10219  ffe2ca6c940cddfee68fa3cc6c63213f                  airedale\n",
       "10220  ffe5f6d8e2bff356e9482a80a6e29aac        miniature_pinscher\n",
       "10221  fff43b07992508bc822f33d8ffd902ae  chesapeake_bay_retriever\n",
       "\n",
       "[10222 rows x 2 columns]"
      ]
     },
     "execution_count": 4,
     "metadata": {},
     "output_type": "execute_result"
    }
   ],
   "source": [
    "df"
   ]
  },
  {
   "cell_type": "code",
   "execution_count": 6,
   "id": "4c03c061",
   "metadata": {},
   "outputs": [],
   "source": [
    "num_breeds = 90\n",
    "im_size = 224\n",
    "batch_size = 128\n",
    "encoder = LabelEncoder()"
   ]
  },
  {
   "cell_type": "code",
   "execution_count": 7,
   "id": "365f27c3",
   "metadata": {},
   "outputs": [],
   "source": [
    "breeds_list = list(df['breed'].value_counts().keys()) "
   ]
  },
  {
   "cell_type": "code",
   "execution_count": 9,
   "id": "d1c9de2f",
   "metadata": {},
   "outputs": [],
   "source": [
    "breeds = []\n",
    "\n",
    "while(len(breeds) < 90):\n",
    "    breed = random.choice(breeds_list)\n",
    "    if breed in breeds:\n",
    "        pass\n",
    "    else:\n",
    "        breeds.append(breed)\n",
    "        \n",
    "df = df.query('breed in @breeds')"
   ]
  },
  {
   "cell_type": "code",
   "execution_count": 12,
   "id": "2324ca0f",
   "metadata": {},
   "outputs": [
    {
     "data": {
      "text/plain": [
       "['papillon',\n",
       " 'chihuahua',\n",
       " 'flat-coated_retriever',\n",
       " 'bluetick',\n",
       " 'scottish_deerhound',\n",
       " 'clumber',\n",
       " 'english_setter',\n",
       " 'old_english_sheepdog',\n",
       " 'affenpinscher',\n",
       " 'norfolk_terrier',\n",
       " 'dingo',\n",
       " 'malinois',\n",
       " 'bernese_mountain_dog',\n",
       " 'basenji',\n",
       " 'sussex_spaniel',\n",
       " 'briard',\n",
       " 'siberian_husky',\n",
       " 'leonberg',\n",
       " 'chow',\n",
       " 'mexican_hairless',\n",
       " 'malamute',\n",
       " 'brabancon_griffon',\n",
       " 'pekinese',\n",
       " 'saint_bernard',\n",
       " 'giant_schnauzer',\n",
       " 'greater_swiss_mountain_dog',\n",
       " 'boston_bull',\n",
       " 'schipperke',\n",
       " 'soft-coated_wheaten_terrier',\n",
       " 'appenzeller',\n",
       " 'weimaraner',\n",
       " 'scotch_terrier',\n",
       " 'chesapeake_bay_retriever',\n",
       " 'miniature_poodle',\n",
       " 'ibizan_hound',\n",
       " 'border_collie',\n",
       " 'otterhound',\n",
       " 'irish_water_spaniel',\n",
       " 'australian_terrier',\n",
       " 'vizsla',\n",
       " 'toy_terrier',\n",
       " 'pembroke',\n",
       " 'irish_setter',\n",
       " 'collie',\n",
       " 'irish_terrier',\n",
       " 'cairn',\n",
       " 'beagle',\n",
       " 'norwich_terrier',\n",
       " 'kuvasz',\n",
       " 'yorkshire_terrier',\n",
       " 'norwegian_elkhound',\n",
       " 'bull_mastiff',\n",
       " 'toy_poodle',\n",
       " 'saluki',\n",
       " 'kerry_blue_terrier',\n",
       " 'bloodhound',\n",
       " 'bedlington_terrier',\n",
       " 'samoyed',\n",
       " 'lhasa',\n",
       " 'african_hunting_dog',\n",
       " 'cardigan',\n",
       " 'english_springer',\n",
       " 'silky_terrier',\n",
       " 'whippet',\n",
       " 'groenendael',\n",
       " 'eskimo_dog',\n",
       " 'borzoi',\n",
       " 'welsh_springer_spaniel',\n",
       " 'curly-coated_retriever',\n",
       " 'rhodesian_ridgeback',\n",
       " 'boxer',\n",
       " 'tibetan_terrier',\n",
       " 'border_terrier',\n",
       " 'maltese_dog',\n",
       " 'german_shepherd',\n",
       " 'rottweiler',\n",
       " 'brittany_spaniel',\n",
       " 'entlebucher',\n",
       " 'italian_greyhound',\n",
       " 'irish_wolfhound',\n",
       " 'lakeland_terrier',\n",
       " 'wire-haired_fox_terrier',\n",
       " 'pomeranian',\n",
       " 'kelpie',\n",
       " 'dandie_dinmont',\n",
       " 'labrador_retriever',\n",
       " 'bouvier_des_flandres',\n",
       " 'tibetan_mastiff',\n",
       " 'afghan_hound',\n",
       " 'miniature_schnauzer']"
      ]
     },
     "execution_count": 12,
     "metadata": {},
     "output_type": "execute_result"
    }
   ],
   "source": [
    "breeds"
   ]
  },
  {
   "cell_type": "code",
   "execution_count": 13,
   "id": "3a68d6f7",
   "metadata": {},
   "outputs": [
    {
     "data": {
      "text/html": [
       "<div>\n",
       "<style scoped>\n",
       "    .dataframe tbody tr th:only-of-type {\n",
       "        vertical-align: middle;\n",
       "    }\n",
       "\n",
       "    .dataframe tbody tr th {\n",
       "        vertical-align: top;\n",
       "    }\n",
       "\n",
       "    .dataframe thead th {\n",
       "        text-align: right;\n",
       "    }\n",
       "</style>\n",
       "<table border=\"1\" class=\"dataframe\">\n",
       "  <thead>\n",
       "    <tr style=\"text-align: right;\">\n",
       "      <th></th>\n",
       "      <th>id</th>\n",
       "      <th>breed</th>\n",
       "    </tr>\n",
       "  </thead>\n",
       "  <tbody>\n",
       "    <tr>\n",
       "      <th>0</th>\n",
       "      <td>000bec180eb18c7604dcecc8fe0dba07</td>\n",
       "      <td>boston_bull</td>\n",
       "    </tr>\n",
       "    <tr>\n",
       "      <th>1</th>\n",
       "      <td>001513dfcb2ffafc82cccf4d8bbaba97</td>\n",
       "      <td>dingo</td>\n",
       "    </tr>\n",
       "    <tr>\n",
       "      <th>2</th>\n",
       "      <td>001cdf01b096e06d78e9e5112d419397</td>\n",
       "      <td>pekinese</td>\n",
       "    </tr>\n",
       "    <tr>\n",
       "      <th>3</th>\n",
       "      <td>00214f311d5d2247d5dfe4fe24b2303d</td>\n",
       "      <td>bluetick</td>\n",
       "    </tr>\n",
       "    <tr>\n",
       "      <th>5</th>\n",
       "      <td>002211c81b498ef88e1b40b9abf84e1d</td>\n",
       "      <td>bedlington_terrier</td>\n",
       "    </tr>\n",
       "    <tr>\n",
       "      <th>...</th>\n",
       "      <td>...</td>\n",
       "      <td>...</td>\n",
       "    </tr>\n",
       "    <tr>\n",
       "      <th>10214</th>\n",
       "      <td>ffcb610e811817766085054616551f9c</td>\n",
       "      <td>briard</td>\n",
       "    </tr>\n",
       "    <tr>\n",
       "      <th>10216</th>\n",
       "      <td>ffcffab7e4beef9a9b8076ef2ca51909</td>\n",
       "      <td>samoyed</td>\n",
       "    </tr>\n",
       "    <tr>\n",
       "      <th>10217</th>\n",
       "      <td>ffd25009d635cfd16e793503ac5edef0</td>\n",
       "      <td>borzoi</td>\n",
       "    </tr>\n",
       "    <tr>\n",
       "      <th>10218</th>\n",
       "      <td>ffd3f636f7f379c51ba3648a9ff8254f</td>\n",
       "      <td>dandie_dinmont</td>\n",
       "    </tr>\n",
       "    <tr>\n",
       "      <th>10221</th>\n",
       "      <td>fff43b07992508bc822f33d8ffd902ae</td>\n",
       "      <td>chesapeake_bay_retriever</td>\n",
       "    </tr>\n",
       "  </tbody>\n",
       "</table>\n",
       "<p>7723 rows × 2 columns</p>\n",
       "</div>"
      ],
      "text/plain": [
       "                                     id                     breed\n",
       "0      000bec180eb18c7604dcecc8fe0dba07               boston_bull\n",
       "1      001513dfcb2ffafc82cccf4d8bbaba97                     dingo\n",
       "2      001cdf01b096e06d78e9e5112d419397                  pekinese\n",
       "3      00214f311d5d2247d5dfe4fe24b2303d                  bluetick\n",
       "5      002211c81b498ef88e1b40b9abf84e1d        bedlington_terrier\n",
       "...                                 ...                       ...\n",
       "10214  ffcb610e811817766085054616551f9c                    briard\n",
       "10216  ffcffab7e4beef9a9b8076ef2ca51909                   samoyed\n",
       "10217  ffd25009d635cfd16e793503ac5edef0                    borzoi\n",
       "10218  ffd3f636f7f379c51ba3648a9ff8254f            dandie_dinmont\n",
       "10221  fff43b07992508bc822f33d8ffd902ae  chesapeake_bay_retriever\n",
       "\n",
       "[7723 rows x 2 columns]"
      ]
     },
     "execution_count": 13,
     "metadata": {},
     "output_type": "execute_result"
    }
   ],
   "source": [
    "df"
   ]
  },
  {
   "cell_type": "code",
   "execution_count": 14,
   "id": "53958750",
   "metadata": {},
   "outputs": [
    {
     "name": "stderr",
     "output_type": "stream",
     "text": [
      "C:\\Users\\deepa\\AppData\\Local\\Temp\\ipykernel_1360\\3603616619.py:1: SettingWithCopyWarning: \n",
      "A value is trying to be set on a copy of a slice from a DataFrame.\n",
      "Try using .loc[row_indexer,col_indexer] = value instead\n",
      "\n",
      "See the caveats in the documentation: https://pandas.pydata.org/pandas-docs/stable/user_guide/indexing.html#returning-a-view-versus-a-copy\n",
      "  df['image'] = df['id'].apply(lambda x:x + \".jpg\")\n"
     ]
    }
   ],
   "source": [
    "df['image'] = df['id'].apply(lambda x:x + \".jpg\")"
   ]
  },
  {
   "cell_type": "code",
   "execution_count": 15,
   "id": "9462f5c4",
   "metadata": {},
   "outputs": [
    {
     "data": {
      "text/html": [
       "<div>\n",
       "<style scoped>\n",
       "    .dataframe tbody tr th:only-of-type {\n",
       "        vertical-align: middle;\n",
       "    }\n",
       "\n",
       "    .dataframe tbody tr th {\n",
       "        vertical-align: top;\n",
       "    }\n",
       "\n",
       "    .dataframe thead th {\n",
       "        text-align: right;\n",
       "    }\n",
       "</style>\n",
       "<table border=\"1\" class=\"dataframe\">\n",
       "  <thead>\n",
       "    <tr style=\"text-align: right;\">\n",
       "      <th></th>\n",
       "      <th>id</th>\n",
       "      <th>breed</th>\n",
       "      <th>image</th>\n",
       "    </tr>\n",
       "  </thead>\n",
       "  <tbody>\n",
       "    <tr>\n",
       "      <th>0</th>\n",
       "      <td>000bec180eb18c7604dcecc8fe0dba07</td>\n",
       "      <td>boston_bull</td>\n",
       "      <td>000bec180eb18c7604dcecc8fe0dba07.jpg</td>\n",
       "    </tr>\n",
       "    <tr>\n",
       "      <th>1</th>\n",
       "      <td>001513dfcb2ffafc82cccf4d8bbaba97</td>\n",
       "      <td>dingo</td>\n",
       "      <td>001513dfcb2ffafc82cccf4d8bbaba97.jpg</td>\n",
       "    </tr>\n",
       "    <tr>\n",
       "      <th>2</th>\n",
       "      <td>001cdf01b096e06d78e9e5112d419397</td>\n",
       "      <td>pekinese</td>\n",
       "      <td>001cdf01b096e06d78e9e5112d419397.jpg</td>\n",
       "    </tr>\n",
       "    <tr>\n",
       "      <th>3</th>\n",
       "      <td>00214f311d5d2247d5dfe4fe24b2303d</td>\n",
       "      <td>bluetick</td>\n",
       "      <td>00214f311d5d2247d5dfe4fe24b2303d.jpg</td>\n",
       "    </tr>\n",
       "    <tr>\n",
       "      <th>5</th>\n",
       "      <td>002211c81b498ef88e1b40b9abf84e1d</td>\n",
       "      <td>bedlington_terrier</td>\n",
       "      <td>002211c81b498ef88e1b40b9abf84e1d.jpg</td>\n",
       "    </tr>\n",
       "    <tr>\n",
       "      <th>...</th>\n",
       "      <td>...</td>\n",
       "      <td>...</td>\n",
       "      <td>...</td>\n",
       "    </tr>\n",
       "    <tr>\n",
       "      <th>10214</th>\n",
       "      <td>ffcb610e811817766085054616551f9c</td>\n",
       "      <td>briard</td>\n",
       "      <td>ffcb610e811817766085054616551f9c.jpg</td>\n",
       "    </tr>\n",
       "    <tr>\n",
       "      <th>10216</th>\n",
       "      <td>ffcffab7e4beef9a9b8076ef2ca51909</td>\n",
       "      <td>samoyed</td>\n",
       "      <td>ffcffab7e4beef9a9b8076ef2ca51909.jpg</td>\n",
       "    </tr>\n",
       "    <tr>\n",
       "      <th>10217</th>\n",
       "      <td>ffd25009d635cfd16e793503ac5edef0</td>\n",
       "      <td>borzoi</td>\n",
       "      <td>ffd25009d635cfd16e793503ac5edef0.jpg</td>\n",
       "    </tr>\n",
       "    <tr>\n",
       "      <th>10218</th>\n",
       "      <td>ffd3f636f7f379c51ba3648a9ff8254f</td>\n",
       "      <td>dandie_dinmont</td>\n",
       "      <td>ffd3f636f7f379c51ba3648a9ff8254f.jpg</td>\n",
       "    </tr>\n",
       "    <tr>\n",
       "      <th>10221</th>\n",
       "      <td>fff43b07992508bc822f33d8ffd902ae</td>\n",
       "      <td>chesapeake_bay_retriever</td>\n",
       "      <td>fff43b07992508bc822f33d8ffd902ae.jpg</td>\n",
       "    </tr>\n",
       "  </tbody>\n",
       "</table>\n",
       "<p>7723 rows × 3 columns</p>\n",
       "</div>"
      ],
      "text/plain": [
       "                                     id                     breed  \\\n",
       "0      000bec180eb18c7604dcecc8fe0dba07               boston_bull   \n",
       "1      001513dfcb2ffafc82cccf4d8bbaba97                     dingo   \n",
       "2      001cdf01b096e06d78e9e5112d419397                  pekinese   \n",
       "3      00214f311d5d2247d5dfe4fe24b2303d                  bluetick   \n",
       "5      002211c81b498ef88e1b40b9abf84e1d        bedlington_terrier   \n",
       "...                                 ...                       ...   \n",
       "10214  ffcb610e811817766085054616551f9c                    briard   \n",
       "10216  ffcffab7e4beef9a9b8076ef2ca51909                   samoyed   \n",
       "10217  ffd25009d635cfd16e793503ac5edef0                    borzoi   \n",
       "10218  ffd3f636f7f379c51ba3648a9ff8254f            dandie_dinmont   \n",
       "10221  fff43b07992508bc822f33d8ffd902ae  chesapeake_bay_retriever   \n",
       "\n",
       "                                      image  \n",
       "0      000bec180eb18c7604dcecc8fe0dba07.jpg  \n",
       "1      001513dfcb2ffafc82cccf4d8bbaba97.jpg  \n",
       "2      001cdf01b096e06d78e9e5112d419397.jpg  \n",
       "3      00214f311d5d2247d5dfe4fe24b2303d.jpg  \n",
       "5      002211c81b498ef88e1b40b9abf84e1d.jpg  \n",
       "...                                     ...  \n",
       "10214  ffcb610e811817766085054616551f9c.jpg  \n",
       "10216  ffcffab7e4beef9a9b8076ef2ca51909.jpg  \n",
       "10217  ffd25009d635cfd16e793503ac5edef0.jpg  \n",
       "10218  ffd3f636f7f379c51ba3648a9ff8254f.jpg  \n",
       "10221  fff43b07992508bc822f33d8ffd902ae.jpg  \n",
       "\n",
       "[7723 rows x 3 columns]"
      ]
     },
     "execution_count": 15,
     "metadata": {},
     "output_type": "execute_result"
    }
   ],
   "source": [
    "df"
   ]
  },
  {
   "cell_type": "code",
   "execution_count": 16,
   "id": "7353ed3b",
   "metadata": {},
   "outputs": [],
   "source": [
    "train_x = np.zeros((len(df), im_size, im_size, 3), dtype = float)"
   ]
  },
  {
   "cell_type": "code",
   "execution_count": 17,
   "id": "d9208683",
   "metadata": {},
   "outputs": [
    {
     "data": {
      "text/plain": [
       "(7723, 224, 224, 3)"
      ]
     },
     "execution_count": 17,
     "metadata": {},
     "output_type": "execute_result"
    }
   ],
   "source": [
    "train_x.shape"
   ]
  },
  {
   "cell_type": "code",
   "execution_count": 19,
   "id": "fe256216",
   "metadata": {},
   "outputs": [],
   "source": [
    "for i, img_id in enumerate(df['image']):\n",
    "    readed_img = cv2.imread(train_file+img_id,cv2.IMREAD_COLOR)\n",
    "    img = cv2.resize(readed_img,(224, 224)) \n",
    "    img_array = preprocess_input(np.expand_dims(np.array(img[...,::-1].astype(np.float32)).copy(), axis=0))\n",
    "    train_x[i] = img_array"
   ]
  },
  {
   "cell_type": "code",
   "execution_count": 20,
   "id": "517b861b",
   "metadata": {},
   "outputs": [],
   "source": [
    "train_y = encoder.fit_transform(df[\"breed\"].values)"
   ]
  },
  {
   "cell_type": "code",
   "execution_count": 21,
   "id": "cedbcf45",
   "metadata": {},
   "outputs": [],
   "source": [
    "x_train, x_test, y_train, y_test = train_test_split(train_x,train_y,test_size=0.2,random_state=42)"
   ]
  },
  {
   "cell_type": "code",
   "execution_count": 22,
   "id": "c4dc50f4",
   "metadata": {},
   "outputs": [],
   "source": [
    "train_datagen = ImageDataGenerator(rotation_range=45,\n",
    "                                   width_shift_range=0.2,\n",
    "                                   height_shift_range=0.2,\n",
    "                                   shear_range=0.2,\n",
    "                                   zoom_range=0.25,\n",
    "                                   horizontal_flip=True,\n",
    "                                   fill_mode='nearest')\n",
    "\n",
    "train_generator = train_datagen.flow(x_train, \n",
    "                                     y_train, \n",
    "                                     batch_size=batch_size)\n",
    " \n",
    "test_datagen = ImageDataGenerator()\n",
    " \n",
    "test_generator = test_datagen.flow(x_test, \n",
    "                                     y_test, \n",
    "                                     batch_size=batch_size)"
   ]
  },
  {
   "cell_type": "code",
   "execution_count": 23,
   "id": "594bf929",
   "metadata": {},
   "outputs": [
    {
     "name": "stdout",
     "output_type": "stream",
     "text": [
      "Downloading data from https://storage.googleapis.com/tensorflow/keras-applications/resnet/resnet50v2_weights_tf_dim_ordering_tf_kernels_notop.h5\n",
      "94668760/94668760 [==============================] - 13s 0us/step\n"
     ]
    }
   ],
   "source": [
    "resnet = ResNet50V2(input_shape = [im_size,im_size,3], weights='imagenet', include_top=False)\n",
    "for layer in resnet.layers:\n",
    "    layer.trainable = False\n",
    "x = resnet.output\n",
    "x = BatchNormalization()(x)\n",
    "x = GlobalAveragePooling2D()(x)\n",
    "x = Dropout(0.5)(x)\n",
    "x = Dense(1024, activation='relu')(x)\n",
    "x = Dropout(0.5)(x)"
   ]
  },
  {
   "cell_type": "code",
   "execution_count": 24,
   "id": "02fd5e05",
   "metadata": {},
   "outputs": [],
   "source": [
    "predictions = Dense(120, activation='softmax')(x)\n",
    "model = Model(inputs=resnet.input, outputs=predictions)"
   ]
  },
  {
   "cell_type": "code",
   "execution_count": 25,
   "id": "f967aa6d",
   "metadata": {
    "scrolled": true
   },
   "outputs": [
    {
     "name": "stdout",
     "output_type": "stream",
     "text": [
      "Epoch 1/25\n",
      "48/48 [==============================] - 640s 13s/step - loss: 2.7117 - accuracy: 0.3805 - val_loss: 0.9702 - val_accuracy: 0.7311\n",
      "Epoch 2/25\n",
      "48/48 [==============================] - 698s 15s/step - loss: 1.5177 - accuracy: 0.5818 - val_loss: 0.7931 - val_accuracy: 0.7643\n",
      "Epoch 3/25\n",
      "48/48 [==============================] - 699s 15s/step - loss: 1.2977 - accuracy: 0.6314 - val_loss: 0.7547 - val_accuracy: 0.7734\n",
      "Epoch 4/25\n",
      "48/48 [==============================] - 623s 13s/step - loss: 1.1723 - accuracy: 0.6579 - val_loss: 0.7383 - val_accuracy: 0.7806\n",
      "Epoch 5/25\n",
      "48/48 [==============================] - 614s 13s/step - loss: 1.1147 - accuracy: 0.6707 - val_loss: 0.7420 - val_accuracy: 0.7669\n",
      "Epoch 6/25\n",
      "48/48 [==============================] - 617s 13s/step - loss: 1.0580 - accuracy: 0.6851 - val_loss: 0.7404 - val_accuracy: 0.7708\n",
      "Epoch 7/25\n",
      "48/48 [==============================] - 611s 13s/step - loss: 1.0366 - accuracy: 0.6911 - val_loss: 0.7283 - val_accuracy: 0.7669\n",
      "Epoch 8/25\n",
      "48/48 [==============================] - 676s 14s/step - loss: 0.9723 - accuracy: 0.7121 - val_loss: 0.7245 - val_accuracy: 0.7826\n",
      "Epoch 9/25\n",
      "48/48 [==============================] - 707s 15s/step - loss: 0.9560 - accuracy: 0.7210 - val_loss: 0.7379 - val_accuracy: 0.7747\n",
      "Epoch 10/25\n",
      "48/48 [==============================] - 719s 15s/step - loss: 0.9320 - accuracy: 0.7183 - val_loss: 0.7421 - val_accuracy: 0.7715\n",
      "Epoch 11/25\n",
      "48/48 [==============================] - 655s 14s/step - loss: 0.9025 - accuracy: 0.7327 - val_loss: 0.7496 - val_accuracy: 0.7734\n",
      "Epoch 12/25\n",
      "48/48 [==============================] - 605s 13s/step - loss: 0.8851 - accuracy: 0.7332 - val_loss: 0.7541 - val_accuracy: 0.7741\n",
      "Epoch 13/25\n",
      "48/48 [==============================] - 615s 13s/step - loss: 0.8804 - accuracy: 0.7398 - val_loss: 0.7626 - val_accuracy: 0.7819\n",
      "Epoch 14/25\n",
      "48/48 [==============================] - 641s 13s/step - loss: 0.8398 - accuracy: 0.7474 - val_loss: 0.7575 - val_accuracy: 0.7812\n",
      "Epoch 15/25\n",
      "48/48 [==============================] - 635s 13s/step - loss: 0.8288 - accuracy: 0.7506 - val_loss: 0.7645 - val_accuracy: 0.7689\n",
      "Epoch 16/25\n",
      "48/48 [==============================] - 606s 13s/step - loss: 0.8261 - accuracy: 0.7463 - val_loss: 0.7472 - val_accuracy: 0.7793\n",
      "Epoch 17/25\n",
      "48/48 [==============================] - 667s 14s/step - loss: 0.8075 - accuracy: 0.7519 - val_loss: 0.7406 - val_accuracy: 0.7799\n",
      "Epoch 18/25\n",
      "48/48 [==============================] - 1370s 29s/step - loss: 0.7806 - accuracy: 0.7610 - val_loss: 0.7614 - val_accuracy: 0.7734\n",
      "Epoch 19/25\n",
      "48/48 [==============================] - 1138s 24s/step - loss: 0.7920 - accuracy: 0.7621 - val_loss: 0.7568 - val_accuracy: 0.7871\n",
      "Epoch 20/25\n",
      "48/48 [==============================] - 912s 19s/step - loss: 0.7735 - accuracy: 0.7602 - val_loss: 0.7685 - val_accuracy: 0.7734\n",
      "Epoch 21/25\n",
      "48/48 [==============================] - 613s 13s/step - loss: 0.7495 - accuracy: 0.7693 - val_loss: 0.7590 - val_accuracy: 0.7767\n",
      "Epoch 22/25\n",
      "48/48 [==============================] - 613s 13s/step - loss: 0.7594 - accuracy: 0.7745 - val_loss: 0.7794 - val_accuracy: 0.7786\n",
      "Epoch 23/25\n",
      "48/48 [==============================] - 614s 13s/step - loss: 0.7437 - accuracy: 0.7736 - val_loss: 0.7757 - val_accuracy: 0.7728\n",
      "Epoch 24/25\n",
      "48/48 [==============================] - 614s 13s/step - loss: 0.7328 - accuracy: 0.7740 - val_loss: 0.7550 - val_accuracy: 0.7786\n",
      "Epoch 25/25\n",
      "48/48 [==============================] - 659s 14s/step - loss: 0.7029 - accuracy: 0.7874 - val_loss: 0.7958 - val_accuracy: 0.7715\n"
     ]
    },
    {
     "data": {
      "text/plain": [
       "<keras.callbacks.History at 0x24c9c7940a0>"
      ]
     },
     "execution_count": 25,
     "metadata": {},
     "output_type": "execute_result"
    }
   ],
   "source": [
    "epochs = 25\n",
    "learning_rate = 1e-3\n",
    "optimizer = RMSprop(learning_rate=learning_rate,rho=0.9)\n",
    "model.compile(optimizer=optimizer,\n",
    "              loss='sparse_categorical_crossentropy',\n",
    "              metrics=[\"accuracy\"])\n",
    "model.fit(train_generator,steps_per_epoch= x_train.shape[0] // batch_size,epochs= epochs,validation_data= test_generator,\n",
    "                 validation_steps= x_test.shape[0]// batch_size)\n"
   ]
  },
  {
   "cell_type": "code",
   "execution_count": 26,
   "id": "8820d587",
   "metadata": {},
   "outputs": [
    {
     "name": "stderr",
     "output_type": "stream",
     "text": [
      "WARNING:absl:Found untraced functions such as _jit_compiled_convolution_op, _jit_compiled_convolution_op, _jit_compiled_convolution_op, _jit_compiled_convolution_op, _jit_compiled_convolution_op while saving (showing 5 of 54). These functions will not be directly callable after loading.\n"
     ]
    },
    {
     "name": "stdout",
     "output_type": "stream",
     "text": [
      "INFO:tensorflow:Assets written to: model\\assets\n"
     ]
    },
    {
     "name": "stderr",
     "output_type": "stream",
     "text": [
      "INFO:tensorflow:Assets written to: model\\assets\n"
     ]
    }
   ],
   "source": [
    "model.save(\"model\")"
   ]
  },
  {
   "cell_type": "code",
   "execution_count": 24,
   "id": "fbb0693c",
   "metadata": {},
   "outputs": [
    {
     "name": "stdout",
     "output_type": "stream",
     "text": [
      "1/1 [==============================] - 2s 2s/step\n",
      "Predicted Breed for this Dog is : rottweiler\n"
     ]
    }
   ],
   "source": [
    "\n",
    "model = load_model(\"model\")\n",
    " \n",
    "    \n",
    "pred_img_path = '/jupyter-notebooks/download.jpg'\n",
    "pred_img_array = cv2.resize(cv2.imread(pred_img_path,cv2.IMREAD_COLOR),((im_size,im_size)))\n",
    "pred_img_array = preprocess_input(np.expand_dims(np.array(pred_img_array[...,::-1].astype(np.float32)).copy(), axis=0))\n",
    " \n",
    "pred_val = model.predict(np.array(pred_img_array,dtype=\"float32\"))\n",
    " \n",
    "pred_breed = sorted(breed_dict)[np.argmax(pred_val)]\n",
    "print(\"Predicted Breed for this Dog is :\",pred_breed)"
   ]
  },
  {
   "cell_type": "code",
   "execution_count": 2,
   "id": "f4a4bd00",
   "metadata": {},
   "outputs": [],
   "source": [
    "import os\n",
    "UPLOAD_FOLDER = os.path.join('static', 'uploads')"
   ]
  },
  {
   "cell_type": "code",
   "execution_count": 3,
   "id": "c7367bb4",
   "metadata": {},
   "outputs": [
    {
     "data": {
      "text/plain": [
       "'static\\\\uploads'"
      ]
     },
     "execution_count": 3,
     "metadata": {},
     "output_type": "execute_result"
    }
   ],
   "source": [
    "UPLOAD_FOLDER"
   ]
  },
  {
   "cell_type": "code",
   "execution_count": null,
   "id": "5d87dcfe",
   "metadata": {},
   "outputs": [],
   "source": []
  }
 ],
 "metadata": {
  "kernelspec": {
   "display_name": "Python 3 (ipykernel)",
   "language": "python",
   "name": "python3"
  },
  "language_info": {
   "codemirror_mode": {
    "name": "ipython",
    "version": 3
   },
   "file_extension": ".py",
   "mimetype": "text/x-python",
   "name": "python",
   "nbconvert_exporter": "python",
   "pygments_lexer": "ipython3",
   "version": "3.9.13"
  }
 },
 "nbformat": 4,
 "nbformat_minor": 5
}
